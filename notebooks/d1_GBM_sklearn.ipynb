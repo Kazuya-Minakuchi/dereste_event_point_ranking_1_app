{
 "cells": [
  {
   "cell_type": "markdown",
   "metadata": {},
   "source": [
    "# 概要\n",
    "\n",
    "* アタポンの1位データy予測\n",
    "* GBMで試してみる\n",
    "  * 前数回分のイベントの情報を説明変数にしてみる"
   ]
  },
  {
   "cell_type": "markdown",
   "metadata": {},
   "source": [
    "# インポート"
   ]
  },
  {
   "cell_type": "code",
   "execution_count": 1,
   "metadata": {},
   "outputs": [],
   "source": [
    "import numpy as np\n",
    "import pandas as pd\n",
    "import pickle\n",
    "import datetime\n",
    "from datetime import timedelta\n",
    "import matplotlib as mpl\n",
    "import matplotlib.pyplot as plt\n",
    "import seaborn as sns\n",
    "sns.set(font=['IPAMincho'])\n",
    "\n",
    "import seaborn as sns\n",
    "from sklearn.metrics import r2_score"
   ]
  },
  {
   "cell_type": "markdown",
   "metadata": {},
   "source": [
    "# イベントデータ読み込み"
   ]
  },
  {
   "cell_type": "code",
   "execution_count": 2,
   "metadata": {},
   "outputs": [],
   "source": [
    "input_dir = './data/'"
   ]
  },
  {
   "cell_type": "code",
   "execution_count": 3,
   "metadata": {},
   "outputs": [
    {
     "data": {
      "text/html": [
       "<div>\n",
       "<style scoped>\n",
       "    .dataframe tbody tr th:only-of-type {\n",
       "        vertical-align: middle;\n",
       "    }\n",
       "\n",
       "    .dataframe tbody tr th {\n",
       "        vertical-align: top;\n",
       "    }\n",
       "\n",
       "    .dataframe thead th {\n",
       "        text-align: right;\n",
       "    }\n",
       "</style>\n",
       "<table border=\"1\" class=\"dataframe\">\n",
       "  <thead>\n",
       "    <tr style=\"text-align: right;\">\n",
       "      <th></th>\n",
       "      <th>イベント</th>\n",
       "      <th>1位</th>\n",
       "      <th>2001位</th>\n",
       "      <th>形式</th>\n",
       "      <th>属性</th>\n",
       "      <th>期間</th>\n",
       "    </tr>\n",
       "    <tr>\n",
       "      <th>日付</th>\n",
       "      <th></th>\n",
       "      <th></th>\n",
       "      <th></th>\n",
       "      <th></th>\n",
       "      <th></th>\n",
       "      <th></th>\n",
       "    </tr>\n",
       "  </thead>\n",
       "  <tbody>\n",
       "    <tr>\n",
       "      <th>2015-09-25</th>\n",
       "      <td>アタシポンコツアンドロイド</td>\n",
       "      <td>427777</td>\n",
       "      <td>78330</td>\n",
       "      <td>アタポン</td>\n",
       "      <td>NaN</td>\n",
       "      <td>249.0</td>\n",
       "    </tr>\n",
       "    <tr>\n",
       "      <th>2015-10-19</th>\n",
       "      <td>Nation Blue</td>\n",
       "      <td>324369</td>\n",
       "      <td>67627</td>\n",
       "      <td>アタポン</td>\n",
       "      <td>NaN</td>\n",
       "      <td>198.0</td>\n",
       "    </tr>\n",
       "    <tr>\n",
       "      <th>2015-11-20</th>\n",
       "      <td>Orange Sapphire</td>\n",
       "      <td>350000</td>\n",
       "      <td>42944</td>\n",
       "      <td>アタポン</td>\n",
       "      <td>NaN</td>\n",
       "      <td>150.0</td>\n",
       "    </tr>\n",
       "    <tr>\n",
       "      <th>2015-12-18</th>\n",
       "      <td>Snow Wings</td>\n",
       "      <td>520000</td>\n",
       "      <td>50954</td>\n",
       "      <td>アタポン</td>\n",
       "      <td>NaN</td>\n",
       "      <td>222.0</td>\n",
       "    </tr>\n",
       "    <tr>\n",
       "      <th>2016-01-20</th>\n",
       "      <td>パステルピンクな恋</td>\n",
       "      <td>602529</td>\n",
       "      <td>43854</td>\n",
       "      <td>アタポン</td>\n",
       "      <td>NaN</td>\n",
       "      <td>174.0</td>\n",
       "    </tr>\n",
       "  </tbody>\n",
       "</table>\n",
       "</div>"
      ],
      "text/plain": [
       "                       イベント      1位  2001位    形式   属性     期間\n",
       "日付                                                          \n",
       "2015-09-25    アタシポンコツアンドロイド  427777  78330  アタポン  NaN  249.0\n",
       "2015-10-19      Nation Blue  324369  67627  アタポン  NaN  198.0\n",
       "2015-11-20  Orange Sapphire  350000  42944  アタポン  NaN  150.0\n",
       "2015-12-18       Snow Wings  520000  50954  アタポン  NaN  222.0\n",
       "2016-01-20        パステルピンクな恋  602529  43854  アタポン  NaN  174.0"
      ]
     },
     "execution_count": 3,
     "metadata": {},
     "output_type": "execute_result"
    }
   ],
   "source": [
    "df = pd.read_pickle(input_dir + 'a3_output_df.pkl')\n",
    "df = df[df['形式'] == 'アタポン'].set_index('日付')\n",
    "df.head()"
   ]
  },
  {
   "cell_type": "code",
   "execution_count": 4,
   "metadata": {},
   "outputs": [
    {
     "name": "stderr",
     "output_type": "stream",
     "text": [
      "findfont: Font family ['IPAMincho'] not found. Falling back to DejaVu Sans.\n"
     ]
    },
    {
     "data": {
      "image/png": "[encoded data removed]",
      "text/plain": [
       "<Figure size 432x288 with 1 Axes>"
      ]
     },
     "metadata": {},
     "output_type": "display_data"
    }
   ],
   "source": [
    "# プロットしてみる\n",
    "fig = plt.figure()\n",
    "ax = fig.add_subplot(111)\n",
    "x = df.index\n",
    "y = df.loc[:, '1位']\n",
    "ax.plot(x, y)\n",
    "plt.show()"
   ]
  },
  {
   "cell_type": "markdown",
   "metadata": {},
   "source": [
    "# データ準備"
   ]
  },
  {
   "cell_type": "code",
   "execution_count": 5,
   "metadata": {},
   "outputs": [
    {
     "data": {
      "text/html": [
       "<div>\n",
       "<style scoped>\n",
       "    .dataframe tbody tr th:only-of-type {\n",
       "        vertical-align: middle;\n",
       "    }\n",
       "\n",
       "    .dataframe tbody tr th {\n",
       "        vertical-align: top;\n",
       "    }\n",
       "\n",
       "    .dataframe thead th {\n",
       "        text-align: right;\n",
       "    }\n",
       "</style>\n",
       "<table border=\"1\" class=\"dataframe\">\n",
       "  <thead>\n",
       "    <tr style=\"text-align: right;\">\n",
       "      <th></th>\n",
       "      <th>event_name</th>\n",
       "      <th>point</th>\n",
       "      <th>length(h)</th>\n",
       "    </tr>\n",
       "    <tr>\n",
       "      <th>日付</th>\n",
       "      <th></th>\n",
       "      <th></th>\n",
       "      <th></th>\n",
       "    </tr>\n",
       "  </thead>\n",
       "  <tbody>\n",
       "    <tr>\n",
       "      <th>2015-09-25</th>\n",
       "      <td>アタシポンコツアンドロイド</td>\n",
       "      <td>427777</td>\n",
       "      <td>249.0</td>\n",
       "    </tr>\n",
       "    <tr>\n",
       "      <th>2015-10-19</th>\n",
       "      <td>Nation Blue</td>\n",
       "      <td>324369</td>\n",
       "      <td>198.0</td>\n",
       "    </tr>\n",
       "    <tr>\n",
       "      <th>2015-11-20</th>\n",
       "      <td>Orange Sapphire</td>\n",
       "      <td>350000</td>\n",
       "      <td>150.0</td>\n",
       "    </tr>\n",
       "  </tbody>\n",
       "</table>\n",
       "</div>"
      ],
      "text/plain": [
       "                 event_name   point  length(h)\n",
       "日付                                            \n",
       "2015-09-25    アタシポンコツアンドロイド  427777      249.0\n",
       "2015-10-19      Nation Blue  324369      198.0\n",
       "2015-11-20  Orange Sapphire  350000      150.0"
      ]
     },
     "execution_count": 5,
     "metadata": {},
     "output_type": "execute_result"
    }
   ],
   "source": [
    "# 必要な列のみに絞る\n",
    "# 日付順に並べる\n",
    "# 列名変更\n",
    "df = (\n",
    "    df\n",
    "    .loc[:, ['イベント', '1位', '期間']]\n",
    "    .sort_index()\n",
    "    .rename(columns={'イベント': 'event_name', '1位': 'point', '期間': 'length(h)'})\n",
    ")\n",
    "df.head(3)"
   ]
  },
  {
   "cell_type": "code",
   "execution_count": 6,
   "metadata": {},
   "outputs": [
    {
     "data": {
      "text/html": [
       "<div>\n",
       "<style scoped>\n",
       "    .dataframe tbody tr th:only-of-type {\n",
       "        vertical-align: middle;\n",
       "    }\n",
       "\n",
       "    .dataframe tbody tr th {\n",
       "        vertical-align: top;\n",
       "    }\n",
       "\n",
       "    .dataframe thead th {\n",
       "        text-align: right;\n",
       "    }\n",
       "</style>\n",
       "<table border=\"1\" class=\"dataframe\">\n",
       "  <thead>\n",
       "    <tr style=\"text-align: right;\">\n",
       "      <th></th>\n",
       "      <th>event_name</th>\n",
       "      <th>point</th>\n",
       "      <th>length(h)</th>\n",
       "      <th>event_num</th>\n",
       "    </tr>\n",
       "    <tr>\n",
       "      <th>日付</th>\n",
       "      <th></th>\n",
       "      <th></th>\n",
       "      <th></th>\n",
       "      <th></th>\n",
       "    </tr>\n",
       "  </thead>\n",
       "  <tbody>\n",
       "    <tr>\n",
       "      <th>2015-09-25</th>\n",
       "      <td>アタシポンコツアンドロイド</td>\n",
       "      <td>427777</td>\n",
       "      <td>249.0</td>\n",
       "      <td>1.0</td>\n",
       "    </tr>\n",
       "    <tr>\n",
       "      <th>2015-10-19</th>\n",
       "      <td>Nation Blue</td>\n",
       "      <td>324369</td>\n",
       "      <td>198.0</td>\n",
       "      <td>2.0</td>\n",
       "    </tr>\n",
       "    <tr>\n",
       "      <th>2015-11-20</th>\n",
       "      <td>Orange Sapphire</td>\n",
       "      <td>350000</td>\n",
       "      <td>150.0</td>\n",
       "      <td>3.0</td>\n",
       "    </tr>\n",
       "  </tbody>\n",
       "</table>\n",
       "</div>"
      ],
      "text/plain": [
       "                 event_name   point  length(h)  event_num\n",
       "日付                                                       \n",
       "2015-09-25    アタシポンコツアンドロイド  427777      249.0        1.0\n",
       "2015-10-19      Nation Blue  324369      198.0        2.0\n",
       "2015-11-20  Orange Sapphire  350000      150.0        3.0"
      ]
     },
     "execution_count": 6,
     "metadata": {},
     "output_type": "execute_result"
    }
   ],
   "source": [
    "# 何回目のイベントか\n",
    "df['event_num'] = df.reset_index()['日付'].rank().values\n",
    "df.head(3)"
   ]
  },
  {
   "cell_type": "code",
   "execution_count": 7,
   "metadata": {},
   "outputs": [
    {
     "data": {
      "text/html": [
       "<div>\n",
       "<style scoped>\n",
       "    .dataframe tbody tr th:only-of-type {\n",
       "        vertical-align: middle;\n",
       "    }\n",
       "\n",
       "    .dataframe tbody tr th {\n",
       "        vertical-align: top;\n",
       "    }\n",
       "\n",
       "    .dataframe thead th {\n",
       "        text-align: right;\n",
       "    }\n",
       "</style>\n",
       "<table border=\"1\" class=\"dataframe\">\n",
       "  <thead>\n",
       "    <tr style=\"text-align: right;\">\n",
       "      <th></th>\n",
       "      <th>event_name</th>\n",
       "      <th>point</th>\n",
       "      <th>length(h)</th>\n",
       "      <th>event_num</th>\n",
       "      <th>p_1</th>\n",
       "      <th>l_1</th>\n",
       "    </tr>\n",
       "    <tr>\n",
       "      <th>日付</th>\n",
       "      <th></th>\n",
       "      <th></th>\n",
       "      <th></th>\n",
       "      <th></th>\n",
       "      <th></th>\n",
       "      <th></th>\n",
       "    </tr>\n",
       "  </thead>\n",
       "  <tbody>\n",
       "    <tr>\n",
       "      <th>2015-09-25</th>\n",
       "      <td>アタシポンコツアンドロイド</td>\n",
       "      <td>427777</td>\n",
       "      <td>249.0</td>\n",
       "      <td>1.0</td>\n",
       "      <td>NaN</td>\n",
       "      <td>NaN</td>\n",
       "    </tr>\n",
       "    <tr>\n",
       "      <th>2015-10-19</th>\n",
       "      <td>Nation Blue</td>\n",
       "      <td>324369</td>\n",
       "      <td>198.0</td>\n",
       "      <td>2.0</td>\n",
       "      <td>427777.0</td>\n",
       "      <td>249.0</td>\n",
       "    </tr>\n",
       "    <tr>\n",
       "      <th>2015-11-20</th>\n",
       "      <td>Orange Sapphire</td>\n",
       "      <td>350000</td>\n",
       "      <td>150.0</td>\n",
       "      <td>3.0</td>\n",
       "      <td>324369.0</td>\n",
       "      <td>198.0</td>\n",
       "    </tr>\n",
       "  </tbody>\n",
       "</table>\n",
       "</div>"
      ],
      "text/plain": [
       "                 event_name   point  length(h)  event_num       p_1    l_1\n",
       "日付                                                                        \n",
       "2015-09-25    アタシポンコツアンドロイド  427777      249.0        1.0       NaN    NaN\n",
       "2015-10-19      Nation Blue  324369      198.0        2.0  427777.0  249.0\n",
       "2015-11-20  Orange Sapphire  350000      150.0        3.0  324369.0  198.0"
      ]
     },
     "execution_count": 7,
     "metadata": {},
     "output_type": "execute_result"
    }
   ],
   "source": [
    "# 前数回分のイベントのポイント、長さの列を作る\n",
    "n = 1\n",
    "for i in range(1, n+1):\n",
    "    df[f'p_{i}'] = df['point'].shift(periods=i)\n",
    "    df[f'l_{i}'] = df['length(h)'].shift(periods=i)\n",
    "df.head(3)"
   ]
  },
  {
   "cell_type": "code",
   "execution_count": 8,
   "metadata": {},
   "outputs": [
    {
     "data": {
      "text/html": [
       "<div>\n",
       "<style scoped>\n",
       "    .dataframe tbody tr th:only-of-type {\n",
       "        vertical-align: middle;\n",
       "    }\n",
       "\n",
       "    .dataframe tbody tr th {\n",
       "        vertical-align: top;\n",
       "    }\n",
       "\n",
       "    .dataframe thead th {\n",
       "        text-align: right;\n",
       "    }\n",
       "</style>\n",
       "<table border=\"1\" class=\"dataframe\">\n",
       "  <thead>\n",
       "    <tr style=\"text-align: right;\">\n",
       "      <th></th>\n",
       "      <th>event_name</th>\n",
       "      <th>point</th>\n",
       "      <th>length(h)</th>\n",
       "      <th>event_num</th>\n",
       "      <th>p_1</th>\n",
       "      <th>l_1</th>\n",
       "    </tr>\n",
       "    <tr>\n",
       "      <th>日付</th>\n",
       "      <th></th>\n",
       "      <th></th>\n",
       "      <th></th>\n",
       "      <th></th>\n",
       "      <th></th>\n",
       "      <th></th>\n",
       "    </tr>\n",
       "  </thead>\n",
       "  <tbody>\n",
       "    <tr>\n",
       "      <th>2015-10-19</th>\n",
       "      <td>Nation Blue</td>\n",
       "      <td>324369</td>\n",
       "      <td>198.0</td>\n",
       "      <td>2.0</td>\n",
       "      <td>427777.0</td>\n",
       "      <td>249.0</td>\n",
       "    </tr>\n",
       "    <tr>\n",
       "      <th>2015-11-20</th>\n",
       "      <td>Orange Sapphire</td>\n",
       "      <td>350000</td>\n",
       "      <td>150.0</td>\n",
       "      <td>3.0</td>\n",
       "      <td>324369.0</td>\n",
       "      <td>198.0</td>\n",
       "    </tr>\n",
       "    <tr>\n",
       "      <th>2015-12-18</th>\n",
       "      <td>Snow Wings</td>\n",
       "      <td>520000</td>\n",
       "      <td>222.0</td>\n",
       "      <td>4.0</td>\n",
       "      <td>350000.0</td>\n",
       "      <td>150.0</td>\n",
       "    </tr>\n",
       "  </tbody>\n",
       "</table>\n",
       "</div>"
      ],
      "text/plain": [
       "                 event_name   point  length(h)  event_num       p_1    l_1\n",
       "日付                                                                        \n",
       "2015-10-19      Nation Blue  324369      198.0        2.0  427777.0  249.0\n",
       "2015-11-20  Orange Sapphire  350000      150.0        3.0  324369.0  198.0\n",
       "2015-12-18       Snow Wings  520000      222.0        4.0  350000.0  150.0"
      ]
     },
     "execution_count": 8,
     "metadata": {},
     "output_type": "execute_result"
    }
   ],
   "source": [
    "# 欠損がある行削除（最初12回分）\n",
    "df = df.dropna()\n",
    "df.head(3)"
   ]
  },
  {
   "cell_type": "code",
   "execution_count": 9,
   "metadata": {},
   "outputs": [
    {
     "data": {
      "text/plain": [
       "59"
      ]
     },
     "execution_count": 9,
     "metadata": {},
     "output_type": "execute_result"
    }
   ],
   "source": [
    "len(df)"
   ]
  },
  {
   "cell_type": "code",
   "execution_count": 10,
   "metadata": {},
   "outputs": [],
   "source": [
    "# 最新12回分を確認用、それ以外をtrain, test用にする\n",
    "df_test_train = df.head(len(df)-12)\n",
    "df_check = df.tail(12)"
   ]
  },
  {
   "cell_type": "code",
   "execution_count": 11,
   "metadata": {},
   "outputs": [
    {
     "data": {
      "text/html": [
       "<div>\n",
       "<style scoped>\n",
       "    .dataframe tbody tr th:only-of-type {\n",
       "        vertical-align: middle;\n",
       "    }\n",
       "\n",
       "    .dataframe tbody tr th {\n",
       "        vertical-align: top;\n",
       "    }\n",
       "\n",
       "    .dataframe thead th {\n",
       "        text-align: right;\n",
       "    }\n",
       "</style>\n",
       "<table border=\"1\" class=\"dataframe\">\n",
       "  <thead>\n",
       "    <tr style=\"text-align: right;\">\n",
       "      <th></th>\n",
       "      <th>event_name</th>\n",
       "      <th>point</th>\n",
       "      <th>length(h)</th>\n",
       "      <th>event_num</th>\n",
       "      <th>p_1</th>\n",
       "      <th>l_1</th>\n",
       "    </tr>\n",
       "    <tr>\n",
       "      <th>日付</th>\n",
       "      <th></th>\n",
       "      <th></th>\n",
       "      <th></th>\n",
       "      <th></th>\n",
       "      <th></th>\n",
       "      <th></th>\n",
       "    </tr>\n",
       "  </thead>\n",
       "  <tbody>\n",
       "    <tr>\n",
       "      <th>2019-04-19</th>\n",
       "      <td>きゅん・きゅん・まっくす</td>\n",
       "      <td>870742</td>\n",
       "      <td>174.0</td>\n",
       "      <td>44.0</td>\n",
       "      <td>886578.0</td>\n",
       "      <td>174.0</td>\n",
       "    </tr>\n",
       "    <tr>\n",
       "      <th>2019-05-21</th>\n",
       "      <td>Max Beat</td>\n",
       "      <td>910638</td>\n",
       "      <td>174.0</td>\n",
       "      <td>45.0</td>\n",
       "      <td>870742.0</td>\n",
       "      <td>174.0</td>\n",
       "    </tr>\n",
       "    <tr>\n",
       "      <th>2019-06-21</th>\n",
       "      <td>TAKAMARI☆CLIMAXXX！！！！！</td>\n",
       "      <td>936000</td>\n",
       "      <td>198.0</td>\n",
       "      <td>46.0</td>\n",
       "      <td>910638.0</td>\n",
       "      <td>174.0</td>\n",
       "    </tr>\n",
       "    <tr>\n",
       "      <th>2019-07-22</th>\n",
       "      <td>バベル</td>\n",
       "      <td>1059763</td>\n",
       "      <td>157.0</td>\n",
       "      <td>47.0</td>\n",
       "      <td>936000.0</td>\n",
       "      <td>198.0</td>\n",
       "    </tr>\n",
       "    <tr>\n",
       "      <th>2019-08-20</th>\n",
       "      <td>comic cosmic</td>\n",
       "      <td>1129958</td>\n",
       "      <td>174.0</td>\n",
       "      <td>48.0</td>\n",
       "      <td>1059763.0</td>\n",
       "      <td>157.0</td>\n",
       "    </tr>\n",
       "  </tbody>\n",
       "</table>\n",
       "</div>"
      ],
      "text/plain": [
       "                        event_name    point  length(h)  event_num        p_1  \\\n",
       "日付                                                                             \n",
       "2019-04-19            きゅん・きゅん・まっくす   870742      174.0       44.0   886578.0   \n",
       "2019-05-21                Max Beat   910638      174.0       45.0   870742.0   \n",
       "2019-06-21  TAKAMARI☆CLIMAXXX！！！！！   936000      198.0       46.0   910638.0   \n",
       "2019-07-22                    バベル   1059763      157.0       47.0   936000.0   \n",
       "2019-08-20            comic cosmic  1129958      174.0       48.0  1059763.0   \n",
       "\n",
       "              l_1  \n",
       "日付                 \n",
       "2019-04-19  174.0  \n",
       "2019-05-21  174.0  \n",
       "2019-06-21  174.0  \n",
       "2019-07-22  198.0  \n",
       "2019-08-20  157.0  "
      ]
     },
     "execution_count": 11,
     "metadata": {},
     "output_type": "execute_result"
    }
   ],
   "source": [
    "df_test_train.tail()"
   ]
  },
  {
   "cell_type": "code",
   "execution_count": 12,
   "metadata": {},
   "outputs": [
    {
     "data": {
      "text/html": [
       "<div>\n",
       "<style scoped>\n",
       "    .dataframe tbody tr th:only-of-type {\n",
       "        vertical-align: middle;\n",
       "    }\n",
       "\n",
       "    .dataframe tbody tr th {\n",
       "        vertical-align: top;\n",
       "    }\n",
       "\n",
       "    .dataframe thead th {\n",
       "        text-align: right;\n",
       "    }\n",
       "</style>\n",
       "<table border=\"1\" class=\"dataframe\">\n",
       "  <thead>\n",
       "    <tr style=\"text-align: right;\">\n",
       "      <th></th>\n",
       "      <th>event_name</th>\n",
       "      <th>point</th>\n",
       "      <th>length(h)</th>\n",
       "      <th>event_num</th>\n",
       "      <th>p_1</th>\n",
       "      <th>l_1</th>\n",
       "    </tr>\n",
       "    <tr>\n",
       "      <th>日付</th>\n",
       "      <th></th>\n",
       "      <th></th>\n",
       "      <th></th>\n",
       "      <th></th>\n",
       "      <th></th>\n",
       "      <th></th>\n",
       "    </tr>\n",
       "  </thead>\n",
       "  <tbody>\n",
       "    <tr>\n",
       "      <th>2019-09-20</th>\n",
       "      <td>ステップ＆スキップ</td>\n",
       "      <td>1161870</td>\n",
       "      <td>174.0</td>\n",
       "      <td>49.0</td>\n",
       "      <td>1129958.0</td>\n",
       "      <td>174.0</td>\n",
       "    </tr>\n",
       "    <tr>\n",
       "      <th>2019-10-21</th>\n",
       "      <td>空想探査計画</td>\n",
       "      <td>1100000</td>\n",
       "      <td>174.0</td>\n",
       "      <td>50.0</td>\n",
       "      <td>1161870.0</td>\n",
       "      <td>174.0</td>\n",
       "    </tr>\n",
       "    <tr>\n",
       "      <th>2019-11-20</th>\n",
       "      <td>Secret Daybreak</td>\n",
       "      <td>1180231</td>\n",
       "      <td>175.0</td>\n",
       "      <td>51.0</td>\n",
       "      <td>1100000.0</td>\n",
       "      <td>174.0</td>\n",
       "    </tr>\n",
       "    <tr>\n",
       "      <th>2019-12-20</th>\n",
       "      <td>ギュっとMilky Way</td>\n",
       "      <td>1111111</td>\n",
       "      <td>174.0</td>\n",
       "      <td>52.0</td>\n",
       "      <td>1180231.0</td>\n",
       "      <td>175.0</td>\n",
       "    </tr>\n",
       "    <tr>\n",
       "      <th>2020-01-20</th>\n",
       "      <td>幸せの法則 ～ルール～</td>\n",
       "      <td>1268425</td>\n",
       "      <td>198.0</td>\n",
       "      <td>53.0</td>\n",
       "      <td>1111111.0</td>\n",
       "      <td>174.0</td>\n",
       "    </tr>\n",
       "  </tbody>\n",
       "</table>\n",
       "</div>"
      ],
      "text/plain": [
       "                 event_name    point  length(h)  event_num        p_1    l_1\n",
       "日付                                                                          \n",
       "2019-09-20        ステップ＆スキップ  1161870      174.0       49.0  1129958.0  174.0\n",
       "2019-10-21           空想探査計画  1100000      174.0       50.0  1161870.0  174.0\n",
       "2019-11-20  Secret Daybreak  1180231      175.0       51.0  1100000.0  174.0\n",
       "2019-12-20    ギュっとMilky Way  1111111      174.0       52.0  1180231.0  175.0\n",
       "2020-01-20      幸せの法則 ～ルール～  1268425      198.0       53.0  1111111.0  174.0"
      ]
     },
     "execution_count": 12,
     "metadata": {},
     "output_type": "execute_result"
    }
   ],
   "source": [
    "df_check.head()"
   ]
  },
  {
   "cell_type": "markdown",
   "metadata": {},
   "source": [
    "# 訓練・テスト"
   ]
  },
  {
   "cell_type": "code",
   "execution_count": 13,
   "metadata": {},
   "outputs": [],
   "source": [
    "from sklearn.model_selection import train_test_split"
   ]
  },
  {
   "cell_type": "code",
   "execution_count": 14,
   "metadata": {},
   "outputs": [],
   "source": [
    "# 目的変数と説明変数\n",
    "X_df = df_test_train.drop(['event_name', 'point'], axis=1)\n",
    "y_s = df_test_train['point']"
   ]
  },
  {
   "cell_type": "code",
   "execution_count": 15,
   "metadata": {},
   "outputs": [],
   "source": [
    "# 訓練用とテスト用に分ける\n",
    "X_train_df, X_test_df, y_train_s, y_test_s = train_test_split(\n",
    "    X_df, y_s, test_size=0.2, random_state=0\n",
    ")"
   ]
  },
  {
   "cell_type": "code",
   "execution_count": 16,
   "metadata": {},
   "outputs": [],
   "source": [
    "from sklearn.ensemble import GradientBoostingRegressor"
   ]
  },
  {
   "cell_type": "code",
   "execution_count": 17,
   "metadata": {},
   "outputs": [],
   "source": [
    "# モデル準備\n",
    "n = 100         #ループ回数\n",
    "learn_r = 0.1  #学習率\n",
    "sample_r = 0.5 #ツリー作成時のサンプル使用率\n",
    "max_depth = 3  #ツリーの最大深さ\n",
    "\n",
    "model = GradientBoostingRegressor(\n",
    "    learning_rate=learn_r,\n",
    "    n_estimators=n,\n",
    "    subsample=sample_r,\n",
    "    max_depth=max_depth,\n",
    "    random_state=0\n",
    ")"
   ]
  },
  {
   "cell_type": "code",
   "execution_count": 18,
   "metadata": {},
   "outputs": [
    {
     "data": {
      "text/plain": [
       "GradientBoostingRegressor(alpha=0.9, ccp_alpha=0.0, criterion='friedman_mse',\n",
       "                          init=None, learning_rate=0.1, loss='ls', max_depth=3,\n",
       "                          max_features=None, max_leaf_nodes=None,\n",
       "                          min_impurity_decrease=0.0, min_impurity_split=None,\n",
       "                          min_samples_leaf=1, min_samples_split=2,\n",
       "                          min_weight_fraction_leaf=0.0, n_estimators=100,\n",
       "                          n_iter_no_change=None, presort='deprecated',\n",
       "                          random_state=0, subsample=0.5, tol=0.0001,\n",
       "                          validation_fraction=0.1, verbose=0, warm_start=False)"
      ]
     },
     "execution_count": 18,
     "metadata": {},
     "output_type": "execute_result"
    }
   ],
   "source": [
    "# 学習\n",
    "model.fit(X_train_df, y_train_s)"
   ]
  },
  {
   "cell_type": "code",
   "execution_count": 19,
   "metadata": {},
   "outputs": [
    {
     "data": {
      "text/plain": [
       "0.9970022877883092"
      ]
     },
     "execution_count": 19,
     "metadata": {},
     "output_type": "execute_result"
    }
   ],
   "source": [
    "# 訓練データでのr2crore\n",
    "model.score(X_train_df, y_train_s)"
   ]
  },
  {
   "cell_type": "code",
   "execution_count": 20,
   "metadata": {},
   "outputs": [],
   "source": [
    "# yを予測\n",
    "y_pred = model.predict(X_test_df)"
   ]
  },
  {
   "cell_type": "code",
   "execution_count": 21,
   "metadata": {},
   "outputs": [
    {
     "data": {
      "text/plain": [
       "0.6134281622639445"
      ]
     },
     "execution_count": 21,
     "metadata": {},
     "output_type": "execute_result"
    }
   ],
   "source": [
    "# 決定係数 (R2)\n",
    "r2_score(y_test_s, y_pred)"
   ]
  },
  {
   "cell_type": "code",
   "execution_count": 22,
   "metadata": {},
   "outputs": [
    {
     "name": "stderr",
     "output_type": "stream",
     "text": [
      "findfont: Font family ['IPAMincho'] not found. Falling back to DejaVu Sans.\n"
     ]
    },
    {
     "data": {
      "image/png": "[encoded data removed]",
      "text/plain": [
       "<Figure size 432x288 with 1 Axes>"
      ]
     },
     "metadata": {},
     "output_type": "display_data"
    }
   ],
   "source": [
    "fig, ax = plt.subplots(1, 1)\n",
    "ax.scatter(y_test_s, y_pred)\n",
    "ideal_min = min(min(y_test_s), min(y_pred))\n",
    "ideal_max = min(max(y_test_s), max(y_pred))\n",
    "ax.plot([ideal_min, ideal_max], [ideal_min, ideal_max], color='r')\n",
    "ax.set_xlabel('actual')\n",
    "ax.set_ylabel('predict')\n",
    "plt.show()"
   ]
  },
  {
   "cell_type": "markdown",
   "metadata": {},
   "source": [
    "過学習してる"
   ]
  },
  {
   "cell_type": "markdown",
   "metadata": {},
   "source": [
    "# グリッドサーチ"
   ]
  },
  {
   "cell_type": "code",
   "execution_count": 23,
   "metadata": {},
   "outputs": [],
   "source": [
    "from sklearn.model_selection import GridSearchCV"
   ]
  },
  {
   "cell_type": "code",
   "execution_count": 34,
   "metadata": {},
   "outputs": [],
   "source": [
    "param_grid = {\n",
    "    'learning_rate': [0.01, 0.05, 0.1],\n",
    "    'n_estimators': [50,100,200],\n",
    "    'subsample': [0.5, 1],\n",
    "    'max_depth': [1, 2, 3]\n",
    " }"
   ]
  },
  {
   "cell_type": "code",
   "execution_count": 35,
   "metadata": {},
   "outputs": [
    {
     "data": {
      "text/plain": [
       "GridSearchCV(cv=3, error_score=nan,\n",
       "             estimator=GradientBoostingRegressor(alpha=0.9, ccp_alpha=0.0,\n",
       "                                                 criterion='friedman_mse',\n",
       "                                                 init=None, learning_rate=0.1,\n",
       "                                                 loss='ls', max_depth=3,\n",
       "                                                 max_features=None,\n",
       "                                                 max_leaf_nodes=None,\n",
       "                                                 min_impurity_decrease=0.0,\n",
       "                                                 min_impurity_split=None,\n",
       "                                                 min_samples_leaf=1,\n",
       "                                                 min_samples_split=2,\n",
       "                                                 min_weight_fraction_leaf=0.0,\n",
       "                                                 n_estimators=100,\n",
       "                                                 n_iter_no_change=None,\n",
       "                                                 presort='deprecated',\n",
       "                                                 random_state=0, subsample=1.0,\n",
       "                                                 tol=0.0001,\n",
       "                                                 validation_fraction=0.1,\n",
       "                                                 verbose=0, warm_start=False),\n",
       "             iid='deprecated', n_jobs=1,\n",
       "             param_grid={'learning_rate': [0.01, 0.05, 0.1],\n",
       "                         'max_depth': [1, 2, 3], 'n_estimators': [50, 100, 200],\n",
       "                         'subsample': [0.5, 1]},\n",
       "             pre_dispatch='2*n_jobs', refit=True, return_train_score=False,\n",
       "             scoring=None, verbose=0)"
      ]
     },
     "execution_count": 35,
     "metadata": {},
     "output_type": "execute_result"
    }
   ],
   "source": [
    "forest_grid = GridSearchCV(\n",
    "    estimator=GradientBoostingRegressor(random_state=0),\n",
    "    param_grid = param_grid,   \n",
    "    cv = 3,              #cross-validation\n",
    "    n_jobs = 1, #number of core\n",
    ")\n",
    "\n",
    "forest_grid.fit(X_train_df, y_train_s) #fit"
   ]
  },
  {
   "cell_type": "code",
   "execution_count": 39,
   "metadata": {},
   "outputs": [
    {
     "data": {
      "text/plain": [
       "learning_rate     0.1\n",
       "max_depth         3.0\n",
       "n_estimators     50.0\n",
       "subsample         0.5\n",
       "dtype: float64"
      ]
     },
     "execution_count": 39,
     "metadata": {},
     "output_type": "execute_result"
    }
   ],
   "source": [
    "# 最適だったパラメータ\n",
    "pd.Series(forest_grid.best_params_)"
   ]
  },
  {
   "cell_type": "code",
   "execution_count": 27,
   "metadata": {},
   "outputs": [],
   "source": [
    "# 最高性能のモデルを取得し、テストデータを分類\n",
    "best = forest_grid.best_estimator_\n",
    "y_pred = best.predict(X_test_df)"
   ]
  },
  {
   "cell_type": "code",
   "execution_count": 28,
   "metadata": {},
   "outputs": [
    {
     "data": {
      "text/plain": [
       "0.5959502866757338"
      ]
     },
     "execution_count": 28,
     "metadata": {},
     "output_type": "execute_result"
    }
   ],
   "source": [
    "# 決定係数 (R2)\n",
    "r2_score(y_test_s, y_pred)"
   ]
  },
  {
   "cell_type": "code",
   "execution_count": 29,
   "metadata": {},
   "outputs": [
    {
     "data": {
      "image/png": "[encoded data removed]",
      "text/plain": [
       "<Figure size 432x288 with 1 Axes>"
      ]
     },
     "metadata": {},
     "output_type": "display_data"
    }
   ],
   "source": [
    "fig, ax = plt.subplots(1, 1)\n",
    "ax.scatter(y_test_s, y_pred)\n",
    "ideal_min = min(min(y_test_s), min(y_pred))\n",
    "ideal_max = min(max(y_test_s), max(y_pred))\n",
    "ax.plot([ideal_min, ideal_max], [ideal_min, ideal_max], color='r')\n",
    "ax.set_xlabel('actual')\n",
    "ax.set_ylabel('predict')\n",
    "plt.show()"
   ]
  },
  {
   "cell_type": "markdown",
   "metadata": {},
   "source": [
    "どうにもダメっぽい"
   ]
  },
  {
   "cell_type": "markdown",
   "metadata": {},
   "source": [
    "# 交差検証"
   ]
  },
  {
   "cell_type": "code",
   "execution_count": 30,
   "metadata": {},
   "outputs": [],
   "source": [
    "from sklearn.model_selection import cross_val_score"
   ]
  },
  {
   "cell_type": "code",
   "execution_count": 32,
   "metadata": {},
   "outputs": [
    {
     "data": {
      "text/plain": [
       "array([-0.39094314,  0.73670513,  0.1854915 ,  0.78374771, -1.06615381])"
      ]
     },
     "execution_count": 32,
     "metadata": {},
     "output_type": "execute_result"
    }
   ],
   "source": [
    "# モデル準備\n",
    "learn_r = 0.1  #学習率\n",
    "max_depth = 3  #ツリーの最大深さ\n",
    "n = 50         #ループ回数\n",
    "sample_r = 0.5 #ツリー作成時のサンプル使用率\n",
    "\n",
    "clf = GradientBoostingRegressor(learning_rate=learn_r, n_estimators=n, subsample=sample_r, max_depth=max_depth, random_state=0)\n",
    "scores = cross_val_score(clf, X_df, y_s, cv=5)\n",
    "scores"
   ]
  },
  {
   "cell_type": "markdown",
   "metadata": {},
   "source": [
    "# まとめ"
   ]
  },
  {
   "cell_type": "markdown",
   "metadata": {},
   "source": [
    "* とりあえずGBM使ってみたが、精度良く予測するのは難しそう\n",
    "  * 説明変数（前何回分まで使うか）、ハイパーパラメータをいじっても精度が上がらない\n",
    "* 原因として思いつくもの\n",
    "  * 過学習している\n",
    "    * trainデータが少ないのに、説明変数やestimatorが多すぎる？\n",
    "  * イベント開催時期によって、説明変数lengthの効き方が変わるのを表現できていない"
   ]
  },
  {
   "cell_type": "code",
   "execution_count": null,
   "metadata": {},
   "outputs": [],
   "source": []
  }
 ],
 "metadata": {
  "kernelspec": {
   "display_name": "Python 3",
   "language": "python",
   "name": "python3"
  },
  "language_info": {
   "codemirror_mode": {
    "name": "ipython",
    "version": 3
   },
   "file_extension": ".py",
   "mimetype": "text/x-python",
   "name": "python",
   "nbconvert_exporter": "python",
   "pygments_lexer": "ipython3",
   "version": "3.7.1"
  }
 },
 "nbformat": 4,
 "nbformat_minor": 4
}
